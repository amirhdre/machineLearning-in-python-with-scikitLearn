{
 "cells": [
  {
   "cell_type": "code",
   "execution_count": 182,
   "metadata": {},
   "outputs": [],
   "source": [
    "import numpy as np\n",
    "\n",
    "# import load_iris function from dataset module\n",
    "from sklearn.datasets import load_iris\n"
   ]
  },
  {
   "cell_type": "code",
   "execution_count": 183,
   "metadata": {},
   "outputs": [
    {
     "data": {
      "text/plain": [
       "sklearn.utils.Bunch"
      ]
     },
     "execution_count": 183,
     "metadata": {},
     "output_type": "execute_result"
    }
   ],
   "source": [
    "# save \"Bunch\" object containing iris dataset and attributes\n",
    "iris = load_iris()\n",
    "type(iris)\n"
   ]
  },
  {
   "cell_type": "code",
   "execution_count": 184,
   "metadata": {},
   "outputs": [
    {
     "name": "stdout",
     "output_type": "stream",
     "text": [
      "<class 'numpy.ndarray'>\n"
     ]
    }
   ],
   "source": [
    "print(type(iris.data))\n",
    "data = iris.data\n"
   ]
  },
  {
   "cell_type": "code",
   "execution_count": 185,
   "metadata": {},
   "outputs": [
    {
     "data": {
      "text/plain": [
       "(150, 4)"
      ]
     },
     "execution_count": 185,
     "metadata": {},
     "output_type": "execute_result"
    }
   ],
   "source": [
    "iris.data.shape"
   ]
  },
  {
   "cell_type": "code",
   "execution_count": 186,
   "metadata": {},
   "outputs": [],
   "source": [
    "feature_names = iris.feature_names\n"
   ]
  },
  {
   "cell_type": "code",
   "execution_count": 187,
   "metadata": {},
   "outputs": [],
   "source": [
    "target = iris.target\n"
   ]
  },
  {
   "cell_type": "code",
   "execution_count": 188,
   "metadata": {},
   "outputs": [],
   "source": [
    "target_names = iris.target_names\n"
   ]
  },
  {
   "cell_type": "code",
   "execution_count": 189,
   "metadata": {},
   "outputs": [
    {
     "data": {
      "text/plain": [
       "KNeighborsClassifier(n_neighbors=1)"
      ]
     },
     "execution_count": 189,
     "metadata": {},
     "output_type": "execute_result"
    }
   ],
   "source": [
    "# import the knn classifier\n",
    "from sklearn.neighbors import KNeighborsClassifier\n",
    "\n",
    "# make an instance of the model (estimator)\n",
    "knn1 = KNeighborsClassifier(n_neighbors=1)\n",
    "\n",
    "# train the model - fit the model with the data\n",
    "knn1.fit(data, target)\n"
   ]
  },
  {
   "cell_type": "code",
   "execution_count": 190,
   "metadata": {},
   "outputs": [
    {
     "data": {
      "text/plain": [
       "array([0])"
      ]
     },
     "execution_count": 190,
     "metadata": {},
     "output_type": "execute_result"
    }
   ],
   "source": [
    "# predict the response of a new observations (out of sample data)\n",
    "knn1.predict([[3, 5, 3, 2]])\n"
   ]
  },
  {
   "cell_type": "code",
   "execution_count": 191,
   "metadata": {},
   "outputs": [
    {
     "data": {
      "text/plain": [
       "array([2, 1])"
      ]
     },
     "execution_count": 191,
     "metadata": {},
     "output_type": "execute_result"
    }
   ],
   "source": [
    "# same for muliple new observations\n",
    "knn1.predict([[3, 5, 4, 2], [5, 4, 3, 2]])\n"
   ]
  },
  {
   "cell_type": "code",
   "execution_count": 192,
   "metadata": {},
   "outputs": [
    {
     "data": {
      "text/plain": [
       "KNeighborsClassifier()"
      ]
     },
     "execution_count": 192,
     "metadata": {},
     "output_type": "execute_result"
    }
   ],
   "source": [
    "## use a different value for k\n",
    "\n",
    "# make an instance of the model (estimator)\n",
    "knn5 = KNeighborsClassifier(n_neighbors=5)\n",
    "\n",
    "# train the model - fit the model with the data\n",
    "knn5.fit(data, target)"
   ]
  },
  {
   "cell_type": "code",
   "execution_count": 193,
   "metadata": {},
   "outputs": [
    {
     "data": {
      "text/plain": [
       "array([0])"
      ]
     },
     "execution_count": 193,
     "metadata": {},
     "output_type": "execute_result"
    }
   ],
   "source": [
    "# predict the response of a new observations (out of sample data)\n",
    "knn5.predict([[3, 5, 3, 2]])\n"
   ]
  },
  {
   "cell_type": "code",
   "execution_count": 194,
   "metadata": {},
   "outputs": [
    {
     "data": {
      "text/plain": [
       "array([1, 1])"
      ]
     },
     "execution_count": 194,
     "metadata": {},
     "output_type": "execute_result"
    }
   ],
   "source": [
    "# same for muliple new observations\n",
    "knn5.predict([[3, 5, 4, 2], [5, 4, 3, 2]])\n"
   ]
  },
  {
   "cell_type": "code",
   "execution_count": 195,
   "metadata": {},
   "outputs": [
    {
     "data": {
      "text/plain": [
       "LogisticRegression(max_iter=1000)"
      ]
     },
     "execution_count": 195,
     "metadata": {},
     "output_type": "execute_result"
    }
   ],
   "source": [
    "## use another classifier - logistic regression\n",
    "\n",
    "# import the logistic regression classifier\n",
    "from sklearn.linear_model import LogisticRegression\n",
    "\n",
    "# make an instance of the model (estimator)\n",
    "logReg = LogisticRegression(max_iter=1_000)\n",
    "\n",
    "# train the model - fit the model with the data\n",
    "logReg.fit(data, target)\n"
   ]
  },
  {
   "cell_type": "code",
   "execution_count": 196,
   "metadata": {},
   "outputs": [
    {
     "data": {
      "text/plain": [
       "array([0, 0])"
      ]
     },
     "execution_count": 196,
     "metadata": {},
     "output_type": "execute_result"
    }
   ],
   "source": [
    "# predict the response of muliple new observations\n",
    "logReg.predict([[3, 5, 4, 2], [5, 4, 3, 2]])"
   ]
  },
  {
   "cell_type": "code",
   "execution_count": 197,
   "metadata": {},
   "outputs": [
    {
     "data": {
      "text/plain": [
       "0.9733333333333334"
      ]
     },
     "execution_count": 197,
     "metadata": {},
     "output_type": "execute_result"
    }
   ],
   "source": [
    "### we need to evaluate our models\n",
    "\n",
    "\n",
    "## logistic regression \n",
    "\n",
    "# generate predictions for all dataset\n",
    "preds_logReg = logReg.predict(data)\n",
    "\n",
    "# compute classification accuracy \n",
    "from sklearn import metrics\n",
    "metrics.accuracy_score(target, preds_logReg)"
   ]
  },
  {
   "cell_type": "code",
   "execution_count": 198,
   "metadata": {},
   "outputs": [
    {
     "data": {
      "text/plain": [
       "1.0"
      ]
     },
     "execution_count": 198,
     "metadata": {},
     "output_type": "execute_result"
    }
   ],
   "source": [
    "## evaluate knn (k=1) \n",
    "\n",
    "# generate predictions for all dataset\n",
    "preds_knn1 = knn1.predict(data)\n",
    "\n",
    "# compute classification accuracy \n",
    "metrics.accuracy_score(target, preds_knn1)"
   ]
  },
  {
   "cell_type": "code",
   "execution_count": 199,
   "metadata": {},
   "outputs": [
    {
     "data": {
      "text/plain": [
       "0.9666666666666667"
      ]
     },
     "execution_count": 199,
     "metadata": {},
     "output_type": "execute_result"
    }
   ],
   "source": [
    "## evaluate knn (k=5) \n",
    "\n",
    "# generate predictions for all dataset\n",
    "preds_knn5 = knn5.predict(data)\n",
    "\n",
    "# compute classification accuracy \n",
    "metrics.accuracy_score(target, preds_knn5)"
   ]
  },
  {
   "cell_type": "code",
   "execution_count": 200,
   "metadata": {},
   "outputs": [],
   "source": [
    "# to overcome over-fitting, split data to test and train sets\n",
    "\n",
    "# split into testing and training sets\n",
    "from sklearn.model_selection import train_test_split\n",
    "data_train, data_test, target_train, target_test = train_test_split(data, target, test_size=0.4)"
   ]
  },
  {
   "cell_type": "code",
   "execution_count": 201,
   "metadata": {},
   "outputs": [
    {
     "data": {
      "text/plain": [
       "0.95"
      ]
     },
     "execution_count": 201,
     "metadata": {},
     "output_type": "execute_result"
    }
   ],
   "source": [
    "## train the model on the training set\n",
    "\n",
    "# make an instance of the model (estimator)\n",
    "logReg = LogisticRegression(max_iter=1_000)\n",
    "\n",
    "# train the model - fit the model with the data\n",
    "logReg.fit(data_train, target_train)\n",
    "\n",
    "# generate predictions for testing set\n",
    "preds_logReg = logReg.predict(data_test)\n",
    "\n",
    "# compute classification accuracy \n",
    "metrics.accuracy_score(target_test, preds_logReg)"
   ]
  },
  {
   "cell_type": "code",
   "execution_count": 202,
   "metadata": {},
   "outputs": [
    {
     "data": {
      "text/plain": [
       "0.9"
      ]
     },
     "execution_count": 202,
     "metadata": {},
     "output_type": "execute_result"
    }
   ],
   "source": [
    "## same for knn (k=1)\n",
    "\n",
    "# make an instance of the model (estimator)\n",
    "knn1 = KNeighborsClassifier(n_neighbors=1)\n",
    "\n",
    "# train the model - fit the model with the data\n",
    "knn1.fit(data_train, target_train)\n",
    "\n",
    "# generate predictions for testing set\n",
    "preds_knn1 = knn1.predict(data_test)\n",
    "\n",
    "# compute classification accuracy \n",
    "metrics.accuracy_score(target_test, preds_knn1)"
   ]
  },
  {
   "cell_type": "code",
   "execution_count": 203,
   "metadata": {},
   "outputs": [
    {
     "data": {
      "text/plain": [
       "0.9333333333333333"
      ]
     },
     "execution_count": 203,
     "metadata": {},
     "output_type": "execute_result"
    }
   ],
   "source": [
    "## same for knn (k=1)\n",
    "\n",
    "# make an instance of the model (estimator)\n",
    "knn5 = KNeighborsClassifier(n_neighbors=5)\n",
    "\n",
    "# train the model - fit the model with the data\n",
    "knn5.fit(data_train, target_train)\n",
    "\n",
    "# generate predictions for testing set\n",
    "preds_knn5 = knn5.predict(data_test)\n",
    "\n",
    "# compute classification accuracy \n",
    "metrics.accuracy_score(target_test, preds_knn5)"
   ]
  },
  {
   "cell_type": "code",
   "execution_count": 204,
   "metadata": {},
   "outputs": [],
   "source": [
    "## try k = 1 through k = 25 and record testing accuracy\n",
    "\n",
    "accuracy_record = []\n",
    "\n",
    "for k in range(1,25):\n",
    "\n",
    "    # make an instance of the model (estimator)\n",
    "    knn = KNeighborsClassifier(n_neighbors=k)\n",
    "\n",
    "    # train the model - fit the model with the data\n",
    "    knn.fit(data_train, target_train)\n",
    "\n",
    "    # generate predictions for testing set\n",
    "    preds_knn = knn.predict(data_test)\n",
    "\n",
    "    # compute classification accuracy \n",
    "    acc = metrics.accuracy_score(target_test, preds_knn)\n",
    "    accuracy_record.append(acc)\n"
   ]
  },
  {
   "cell_type": "code",
   "execution_count": 206,
   "metadata": {},
   "outputs": [
    {
     "data": {
      "text/plain": [
       "[<matplotlib.lines.Line2D at 0x1691c5310>]"
      ]
     },
     "execution_count": 206,
     "metadata": {},
     "output_type": "execute_result"
    },
    {
     "data": {
      "image/png": "[encoded data removed]",
      "text/plain": [
       "<Figure size 432x288 with 1 Axes>"
      ]
     },
     "metadata": {
      "needs_background": "light"
     },
     "output_type": "display_data"
    }
   ],
   "source": [
    "import matplotlib.pyplot as plt\n",
    "plt.plot(accuracy_record)"
   ]
  },
  {
   "cell_type": "code",
   "execution_count": null,
   "metadata": {},
   "outputs": [],
   "source": []
  }
 ],
 "metadata": {
  "interpreter": {
   "hash": "6ddd890daad9ccb684bff25183d61c9f8150c8b957a775d488269053124e5aa3"
  },
  "kernelspec": {
   "display_name": "Python 3.8.11 ('base')",
   "language": "python",
   "name": "python3"
  },
  "language_info": {
   "codemirror_mode": {
    "name": "ipython",
    "version": 3
   },
   "file_extension": ".py",
   "mimetype": "text/x-python",
   "name": "python",
   "nbconvert_exporter": "python",
   "pygments_lexer": "ipython3",
   "version": "3.8.11"
  },
  "orig_nbformat": 4
 },
 "nbformat": 4,
 "nbformat_minor": 2
}
